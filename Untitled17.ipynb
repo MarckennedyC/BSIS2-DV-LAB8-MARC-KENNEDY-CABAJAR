{
  "nbformat": 4,
  "nbformat_minor": 0,
  "metadata": {
    "colab": {
      "provenance": [],
      "authorship_tag": "ABX9TyPuTHTPnSW5Yr6VJYMV4Jh9",
      "include_colab_link": true
    },
    "kernelspec": {
      "name": "python3",
      "display_name": "Python 3"
    },
    "language_info": {
      "name": "python"
    }
  },
  "cells": [
    {
      "cell_type": "markdown",
      "metadata": {
        "id": "view-in-github",
        "colab_type": "text"
      },
      "source": [
        "<a href=\"https://colab.research.google.com/github/MarckennedyC/BSIS2-DV-LAB8-MARC-KENNEDY-CABAJAR/blob/main/Untitled17.ipynb\" target=\"_parent\"><img src=\"https://colab.research.google.com/assets/colab-badge.svg\" alt=\"Open In Colab\"/></a>"
      ]
    },
    {
      "cell_type": "code",
      "execution_count": 4,
      "metadata": {
        "colab": {
          "base_uri": "https://localhost:8080/"
        },
        "id": "v9TxqVngMbp2",
        "outputId": "f7e57861-b4e0-4154-cb29-d2dd90358462"
      },
      "outputs": [
        {
          "output_type": "stream",
          "name": "stdout",
          "text": [
            "M\n",
            "a\n",
            "r\n",
            "c\n",
            " \n",
            "k\n",
            "e\n",
            "n\n",
            "n\n",
            "e\n",
            "d\n",
            "y\n",
            "0\n",
            "1\n",
            "2\n",
            "3\n",
            "4\n",
            "5\n",
            "6\n",
            "7\n",
            "8\n",
            "9\n",
            "10\n",
            "11\n",
            "12\n",
            "13\n",
            "14\n",
            "0\n",
            "1\n",
            "2\n",
            "3\n",
            "4\n",
            "5\n",
            "6\n",
            "7\n",
            "8\n",
            "9\n",
            "10\n",
            "11\n",
            "12\n",
            "13\n",
            "14\n",
            "Finally finished!\n",
            "mango\n",
            "orange\n",
            "grapes\n",
            "Python\n",
            "Excel\n",
            "Rapid Miner\n",
            "R\n"
          ]
        }
      ],
      "source": [
        "myName=\"Marc kennedy\"\n",
        "for x in myName:\n",
        "  print(x)\n",
        "Range=(15)\n",
        "for x in range(15):\n",
        "   print(x)\n",
        "Range=(15)\n",
        "for x in range(15):\n",
        "   print(x)\n",
        "else:\n",
        "   print(\"Finally finished!\")\n",
        "thislist=[\"mango\",\"orange\",\"grapes\"]\n",
        "for x in thislist:\n",
        "  print(x)\n",
        "dataAnalyticsTools=['Python','Excel','Rapid Miner','R']\n",
        "for i in range(len(dataAnalyticsTools)):\n",
        "  print(dataAnalyticsTools[i])"
      ]
    }
  ]
}